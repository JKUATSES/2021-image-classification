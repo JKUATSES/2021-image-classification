{
  "nbformat": 4,
  "nbformat_minor": 0,
  "metadata": {
    "colab": {
      "name": "Load_Data.ipynb",
      "provenance": [],
      "mount_file_id": "1KDxfYOLq7zS4WLNrMYR82L7dv0txZTO9",
      "authorship_tag": "ABX9TyOavILFmT88Jnua1+Aak4tc",
      "include_colab_link": true
    },
    "kernelspec": {
      "display_name": "Python 3",
      "name": "python3"
    },
    "accelerator": "TPU"
  },
  "cells": [
    {
      "cell_type": "markdown",
      "metadata": {
        "id": "view-in-github",
        "colab_type": "text"
      },
      "source": [
        "<a href=\"https://colab.research.google.com/github/Ng-ethe/2021-image-classification/blob/main/Load_Data.ipynb\" target=\"_parent\"><img src=\"https://colab.research.google.com/assets/colab-badge.svg\" alt=\"Open In Colab\"/></a>"
      ]
    },
    {
      "cell_type": "markdown",
      "metadata": {
        "id": "8kJaNgBCNa9u"
      },
      "source": [
        "The data have been split into a test and training set. The training set, on which you will train your models, contains 353 images of x-rays of TB-positive lungs and 365 images of x-rays of healthy lungs. The test set contains 82 images.\n",
        "\n",
        "You are asked to build a machine learning model to predict the likelihood that the lung in the x-ray is TB-positive. In your submission file, LABEL=1 means the x-ray is TB-positive. Please keep your values as probabilities."
      ]
    },
    {
      "cell_type": "code",
      "metadata": {
        "id": "8naUNR_JJQSB"
      },
      "source": [
        "import os\n",
        "import pandas as pd\n",
        "import numpy as np\n",
        "import matplotlib.pyplot as plt\n",
        "from tensorflow.keras.preprocessing import image\n",
        "%matplotlib inline\n",
        "\n"
      ],
      "execution_count": null,
      "outputs": []
    },
    {
      "cell_type": "code",
      "metadata": {
        "id": "nX45i3zc7g6i"
      },
      "source": [
        "from pydrive.auth import GoogleAuth\n",
        "from pydrive.drive import GoogleDrive\n",
        "from google.colab import auth\n",
        "from oauth2client.client import GoogleCredentials"
      ],
      "execution_count": null,
      "outputs": []
    },
    {
      "cell_type": "code",
      "metadata": {
        "id": "aDnHwt1786VI"
      },
      "source": [
        "# read CSV file containing image labels\n",
        "TrainList = pd.read_csv(\"/content/drive/MyDrive/TB_classification_project/TrainList.csv\", \",\")\n",
        "TrainList.head()\n",
        "TrainList.info()"
      ],
      "execution_count": null,
      "outputs": []
    },
    {
      "cell_type": "code",
      "metadata": {
        "id": "NgrYfFClBoFg"
      },
      "source": [
        "# filter out list of files which are TB positive i.e. label = 1\n",
        "tb_pve_id = TrainList[TrainList.LABEL == 1]\n",
        "\n",
        "\n",
        "# filter out list of files which are TB negative i.e. label = 0\n",
        "tb_nve_id = TrainList[TrainList.LABEL == 0]\n"
      ],
      "execution_count": null,
      "outputs": []
    },
    {
      "cell_type": "code",
      "metadata": {
        "id": "vRdDW9d4EDV0"
      },
      "source": [
        "TrainList[\"filename\"].count()"
      ],
      "execution_count": null,
      "outputs": []
    },
    {
      "cell_type": "code",
      "metadata": {
        "id": "NJmoUBOTkrf6"
      },
      "source": [
        "# This code separates the images into their respective classes\n",
        "\"\"\"\n",
        "# get file paths for all TB positive Xrays and copy the files into one folder\n",
        "positive_xray= []\n",
        " \n",
        "for k in range(tb_pve_id[\"filename\"].count()):\n",
        "    path= r\"/content/drive/My Drive/TB_classification_project/\" + tb_pve_id.iloc[k,0]\n",
        "    positive_xray.append (path)\n",
        "print(positive_xray)\n",
        "\n",
        "import shutil\n",
        "\n",
        "for k in range(len(positive_xray)):\n",
        "    original = positive_xray[k] \n",
        "    target = r'/content/drive/My Drive/TB_classification_project/train/TB/' + tb_pve_id.iloc[k,1] + '.png'\n",
        "    shutil.move(original, target)\n",
        "\n",
        "   \"\"\""
      ],
      "execution_count": null,
      "outputs": []
    },
    {
      "cell_type": "code",
      "metadata": {
        "id": "5S3-PP4KlHPF"
      },
      "source": [
        "# This code separates the images into their respective classes\n",
        "\"\"\"\n",
        "# get file paths for all TB normal Xrays and copy the files into one folder\n",
        "negative_xray= []\n",
        "for k in range(tb_pve_id[\"filename\"].count()):\n",
        "    path= r\"/content/drive/My Drive/TB_classification_project/\" + tb_nve_id.iloc[k,0] \n",
        "    negative_xray.append (path)\n",
        "print(positive_xray)\n",
        "\n",
        "import shutil\n",
        "\n",
        "for k in range(len(negative_xray)):\n",
        "    original = negative_xray[k] \n",
        "    target = r'/content/drive/My Drive/TB_classification_project/train/normal/' + tb_nve_id.iloc[k,1] + '.png'\n",
        "    shutil.move(original, target)\n",
        "    \n",
        "    \"\"\""
      ],
      "execution_count": null,
      "outputs": []
    },
    {
      "cell_type": "markdown",
      "metadata": {
        "id": "hccRVgnxmrHM"
      },
      "source": [
        "Here We'll explore the different libraries for displaying images"
      ]
    },
    {
      "cell_type": "code",
      "metadata": {
        "id": "BQcSk19znh9s"
      },
      "source": [
        "# using skimage\n",
        "path = \"/content/drive/My Drive/TB_classification_project/train/TB/VTYNBFTO.png\"\n",
        "from skimage import io\n",
        "img = io.imread(path)\n",
        "plt.imshow(img)"
      ],
      "execution_count": null,
      "outputs": []
    },
    {
      "cell_type": "code",
      "metadata": {
        "id": "KiPF12HOF8vY"
      },
      "source": [
        "# using Pillow\n",
        "from PIL import Image\n",
        "img = Image.open(path)\n",
        "plt.imshow(img)\n"
      ],
      "execution_count": null,
      "outputs": []
    },
    {
      "cell_type": "code",
      "metadata": {
        "id": "ZHgt-iOsGBlL"
      },
      "source": [
        "# Using openCV\n",
        "import cv2\n",
        "img = cv2.imread(path)\n",
        "plt.imshow(img)"
      ],
      "execution_count": null,
      "outputs": []
    },
    {
      "cell_type": "code",
      "metadata": {
        "id": "vBu7yFrmGHC1"
      },
      "source": [
        "# Using matplotlib\n",
        "import matplotlib.pyplot as plt\n",
        "img = plt.imread(path)\n",
        "plt.imshow(img)"
      ],
      "execution_count": null,
      "outputs": []
    },
    {
      "cell_type": "markdown",
      "metadata": {
        "id": "CLP9Zo3MGcqm"
      },
      "source": [
        "You may spot that the OpenCV image above looks odd.It is because matplotlib, PIL and skimage represent image in RGB (Red, Green, Blue) order, while OpenCV is in reverse order! (BGR — Blue, Green, Red)\n"
      ]
    }
  ]
}