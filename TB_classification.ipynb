{
  "nbformat": 4,
  "nbformat_minor": 0,
  "metadata": {
    "colab": {
      "name": "TB_classification.ipynb",
      "private_outputs": true,
      "provenance": [],
      "mount_file_id": "1KDxfYOLq7zS4WLNrMYR82L7dv0txZTO9",
      "authorship_tag": "ABX9TyOXqLSWAOxzvcfVaT2xz/Sz",
      "include_colab_link": true
    },
    "kernelspec": {
      "display_name": "Python 3",
      "name": "python3"
    },
    "accelerator": "TPU"
  },
  "cells": [
    {
      "cell_type": "markdown",
      "metadata": {
        "id": "view-in-github",
        "colab_type": "text"
      },
      "source": [
        "<a href=\"https://colab.research.google.com/github/Ng-ethe/2021-image-classification/blob/main/TB_classification.ipynb\" target=\"_parent\"><img src=\"https://colab.research.google.com/assets/colab-badge.svg\" alt=\"Open In Colab\"/></a>"
      ]
    },
    {
      "cell_type": "code",
      "metadata": {
        "id": "kcYZXHpwnpaE"
      },
      "source": [
        "# TASKS\n",
        "\n",
        "# implement RoI\n",
        "# try lossless compression\n",
        "# compare the previous 2"
      ],
      "execution_count": null,
      "outputs": []
    },
    {
      "cell_type": "markdown",
      "metadata": {
        "id": "R3ojcK-dKTqw"
      },
      "source": [
        "Tuberculosis (TB) is the ninth leading cause of death worldwide. In 2016, an estimated 417,000 people died from Tuberculosis in Africa, and 1.7 million globally. In South Africa Tuberculosis is the leading cause of death with 450,000 people developing the disease every year and 89,000 people dying from it. That’s ten people every hour.\n",
        "\n",
        "With over 800,000 confirmed cases and 18,000 deaths recorded in Africa and over 17 million confirmed cases and 670,000 recorded deaths globally as of August 2, 2020, the COVID-19 global pandemic continues to take a heavy toll around the world. In countries with a high prevalence level of TB, TB can create additional complexity to the COVID-19 response. And by the same token, COVID-19 is adding new complexity to the ongoing battle against TB.\n",
        "\n",
        "For both TB and COVID-19 patients, medical imaging (Chest X-Rays and/or CT Scans) can sometimes be performed to identify and manage any chest abnormalities that may develop.\n",
        "\n",
        "This challenge asks you to build an AI model that can classify Tuberculosis and Normal X-Ray results. With Tuberculosis infections still active as the COVID-19 pandemic continues, an automated tool to help identify TB has the potential to reduce hospital workload and optimize patient care during a time when hospitals are being overwhelmed by COVID-19 cases.\n"
      ]
    },
    {
      "cell_type": "markdown",
      "metadata": {
        "id": "8kJaNgBCNa9u"
      },
      "source": [
        "The data have been split into a test and training set. The training set, on which you will train your models, contains 353 images of x-rays of TB-positive lungs and 365 images of x-rays of healthy lungs. The test set contains 82 images.\n",
        "\n",
        "You are asked to build a machine learning model to predict the likelihood that the lung in the x-ray is TB-positive. In your submission file, LABEL=1 means the x-ray is TB-positive. Please keep your values as probabilities."
      ]
    },
    {
      "cell_type": "code",
      "metadata": {
        "id": "8naUNR_JJQSB"
      },
      "source": [
        "import os\n",
        "import pandas as pd\n",
        "import numpy as np\n",
        "import matplotlib.pyplot as plt\n",
        "from tensorflow.keras.preprocessing import image\n",
        "%matplotlib inline\n",
        "\n"
      ],
      "execution_count": null,
      "outputs": []
    },
    {
      "cell_type": "code",
      "metadata": {
        "id": "nX45i3zc7g6i"
      },
      "source": [
        "from pydrive.auth import GoogleAuth\n",
        "from pydrive.drive import GoogleDrive\n",
        "from google.colab import auth\n",
        "from oauth2client.client import GoogleCredentials"
      ],
      "execution_count": null,
      "outputs": []
    },
    {
      "cell_type": "code",
      "metadata": {
        "id": "aDnHwt1786VI"
      },
      "source": [
        "TrainList = pd.read_csv(\"/content/drive/MyDrive/TB_classification_project/TrainList.csv\", \",\")\n",
        "TrainList.head()\n",
        "TrainList.info()"
      ],
      "execution_count": null,
      "outputs": []
    },
    {
      "cell_type": "code",
      "metadata": {
        "id": "NgrYfFClBoFg"
      },
      "source": [
        "# filter out list of files which are TB positive i.e. label = 1\n",
        "tb_pve_id = TrainList[TrainList.LABEL == 1]\n",
        "\n",
        "\n",
        "# filter out list of files which are TB negative i.e. label = 0\n",
        "tb_nve_id = TrainList[TrainList.LABEL == 0]\n"
      ],
      "execution_count": null,
      "outputs": []
    },
    {
      "cell_type": "code",
      "metadata": {
        "id": "-7JBhbz3Efoc"
      },
      "source": [
        "train = os.path.join('/content/drive/My Drive/TB_classification_project/train') # image folder\n",
        "train"
      ],
      "execution_count": null,
      "outputs": []
    },
    {
      "cell_type": "code",
      "metadata": {
        "id": "vRdDW9d4EDV0"
      },
      "source": [
        "TrainList[\"filename\"].count()"
      ],
      "execution_count": null,
      "outputs": []
    },
    {
      "cell_type": "code",
      "metadata": {
        "id": "NJmoUBOTkrf6"
      },
      "source": [
        "\"\"\"\n",
        "# get file paths for all TB positive Xrays and copy the files into one folder\n",
        "positive_xray= []\n",
        " \n",
        "for k in range(tb_pve_id[\"filename\"].count()):\n",
        "    path= r\"/content/drive/My Drive/TB_classification_project/\" + tb_pve_id.iloc[k,0]\n",
        "    positive_xray.append (path)\n",
        "print(positive_xray)\n",
        "\n",
        "import shutil\n",
        "\n",
        "for k in range(len(positive_xray)):\n",
        "    original = positive_xray[k] \n",
        "    target = r'/content/drive/My Drive/TB_classification_project/train/TB/' + tb_pve_id.iloc[k,1] + '.png'\n",
        "    shutil.move(original, target)\n",
        "\n",
        "   \"\"\""
      ],
      "execution_count": null,
      "outputs": []
    },
    {
      "cell_type": "code",
      "metadata": {
        "id": "5S3-PP4KlHPF"
      },
      "source": [
        "\"\"\"\n",
        "# get file paths for all TB normal Xrays and copy the files into one folder\n",
        "negative_xray= []\n",
        "for k in range(tb_pve_id[\"filename\"].count()):\n",
        "    path= r\"/content/drive/My Drive/TB_classification_project/\" + tb_nve_id.iloc[k,0] \n",
        "    negative_xray.append (path)\n",
        "print(positive_xray)\n",
        "\n",
        "import shutil\n",
        "\n",
        "for k in range(len(negative_xray)):\n",
        "    original = negative_xray[k] \n",
        "    target = r'/content/drive/My Drive/TB_classification_project/train/normal/' + tb_nve_id.iloc[k,1] + '.png'\n",
        "    shutil.move(original, target)\n",
        "    \n",
        "    \"\"\""
      ],
      "execution_count": null,
      "outputs": []
    },
    {
      "cell_type": "code",
      "metadata": {
        "id": "BQcSk19znh9s"
      },
      "source": [
        "\n",
        "path = \"/content/drive/My Drive/TB_classification_project/train/TB/VTYNBFTO.png\"\n",
        "#img  = Image.open(path)\n",
        "from skimage import io\n",
        "img = io.imread(path)\n",
        "plt.imshow(img)"
      ],
      "execution_count": null,
      "outputs": []
    },
    {
      "cell_type": "code",
      "metadata": {
        "id": "KiPF12HOF8vY"
      },
      "source": [
        "from PIL import Image\n",
        "img = Image.open(path)\n",
        "plt.imshow(img)\n"
      ],
      "execution_count": null,
      "outputs": []
    },
    {
      "cell_type": "code",
      "metadata": {
        "id": "ZHgt-iOsGBlL"
      },
      "source": [
        "\n",
        "import cv2\n",
        "img = cv2.imread(path)\n",
        "plt.imshow(img)"
      ],
      "execution_count": null,
      "outputs": []
    },
    {
      "cell_type": "code",
      "metadata": {
        "id": "vBu7yFrmGHC1"
      },
      "source": [
        "import matplotlib.pyplot as plt\n",
        "img = plt.imread(path)\n",
        "plt.imshow(img)"
      ],
      "execution_count": null,
      "outputs": []
    },
    {
      "cell_type": "markdown",
      "metadata": {
        "id": "CLP9Zo3MGcqm"
      },
      "source": [
        "You may spot that the OpenCV image above looks odd.It is because matplotlib, PIL and skimage represent image in RGB (Red, Green, Blue) order, while OpenCV is in reverse order! (BGR — Blue, Green, Red)\n"
      ]
    }
  ]
}